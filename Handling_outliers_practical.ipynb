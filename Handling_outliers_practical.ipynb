{
  "nbformat": 4,
  "nbformat_minor": 0,
  "metadata": {
    "colab": {
      "provenance": []
    },
    "kernelspec": {
      "name": "python3",
      "display_name": "Python 3"
    },
    "language_info": {
      "name": "python"
    }
  },
  "cells": [
    {
      "cell_type": "markdown",
      "source": [
        "##Handling outliers"
      ],
      "metadata": {
        "id": "MZwt8DaUEEtp"
      }
    },
    {
      "cell_type": "markdown",
      "source": [
        "##5 Number Summary\n",
        "#1.Minimum value\n",
        "#2.Q1- 25percentile\n",
        "#3.median\n",
        "#4.Q3- 75 percentile\n",
        "#5.maximum"
      ],
      "metadata": {
        "id": "UqkhQp0jEDqX"
      }
    },
    {
      "cell_type": "code",
      "source": [
        "import numpy as np\n",
        "lst_marks=[25,45,67,52,35,67,95,85,88,99,55,29,60,80,59,61,83,82,87,1000,1100]"
      ],
      "metadata": {
        "id": "VDnk8ed7EzT3"
      },
      "execution_count": null,
      "outputs": []
    },
    {
      "cell_type": "code",
      "source": [
        "np.percentile(lst_marks,[25])\n"
      ],
      "metadata": {
        "colab": {
          "base_uri": "https://localhost:8080/"
        },
        "id": "4q8YfY1aFD-A",
        "outputId": "fb48c64c-1c61-4c53-b433-e6a117705712"
      },
      "execution_count": null,
      "outputs": [
        {
          "output_type": "execute_result",
          "data": {
            "text/plain": [
              "array([55.])"
            ]
          },
          "metadata": {},
          "execution_count": 6
        }
      ]
    },
    {
      "cell_type": "code",
      "source": [
        "np.percentile(lst_marks,[50])"
      ],
      "metadata": {
        "colab": {
          "base_uri": "https://localhost:8080/"
        },
        "id": "q4Q19QHoGClc",
        "outputId": "1d32e3e8-f9be-4927-9098-4685fc9fe420"
      },
      "execution_count": null,
      "outputs": [
        {
          "output_type": "execute_result",
          "data": {
            "text/plain": [
              "array([67.])"
            ]
          },
          "metadata": {},
          "execution_count": 7
        }
      ]
    },
    {
      "cell_type": "code",
      "source": [
        "np.percentile(lst_marks,[0])"
      ],
      "metadata": {
        "colab": {
          "base_uri": "https://localhost:8080/"
        },
        "id": "P-oSTBWYGZ5D",
        "outputId": "0a39eecd-81f3-4e5d-8a8e-c561e268a0c8"
      },
      "execution_count": null,
      "outputs": [
        {
          "output_type": "execute_result",
          "data": {
            "text/plain": [
              "array([25.])"
            ]
          },
          "metadata": {},
          "execution_count": 8
        }
      ]
    },
    {
      "cell_type": "code",
      "source": [
        "np.percentile(lst_marks,[100])"
      ],
      "metadata": {
        "colab": {
          "base_uri": "https://localhost:8080/"
        },
        "id": "LE3jdeBhGfhH",
        "outputId": "152bb443-f134-4e3c-e795-7b2b454968c7"
      },
      "execution_count": null,
      "outputs": [
        {
          "output_type": "execute_result",
          "data": {
            "text/plain": [
              "array([1100.])"
            ]
          },
          "metadata": {},
          "execution_count": 9
        }
      ]
    },
    {
      "cell_type": "code",
      "source": [
        "##lower fence<----> Higher fence\n",
        "Q1 = np.percentile(lst_marks,[25])\n",
        "print(Q1)"
      ],
      "metadata": {
        "colab": {
          "base_uri": "https://localhost:8080/"
        },
        "id": "yswNsOWKGjFZ",
        "outputId": "5f72c63d-1bc0-4106-d660-6bd9e4de8521"
      },
      "execution_count": null,
      "outputs": [
        {
          "output_type": "stream",
          "name": "stdout",
          "text": [
            "[55.]\n"
          ]
        }
      ]
    },
    {
      "cell_type": "code",
      "source": [
        "minimum,Q1,Q2,Q3,maximum = np.quantile(lst_marks,[0,0.25,0.50,0.75,1.0])"
      ],
      "metadata": {
        "id": "afiPx7wbHGkb"
      },
      "execution_count": null,
      "outputs": []
    },
    {
      "cell_type": "code",
      "source": [
        "maximum"
      ],
      "metadata": {
        "colab": {
          "base_uri": "https://localhost:8080/"
        },
        "id": "UDm8FzdiHvYe",
        "outputId": "473bd5cb-0f34-476f-a3a2-9567e062ce8b"
      },
      "execution_count": null,
      "outputs": [
        {
          "output_type": "execute_result",
          "data": {
            "text/plain": [
              "1100.0"
            ]
          },
          "metadata": {},
          "execution_count": 14
        }
      ]
    },
    {
      "cell_type": "code",
      "source": [
        "IQR = Q3-Q1\n",
        "print(IQR)"
      ],
      "metadata": {
        "colab": {
          "base_uri": "https://localhost:8080/"
        },
        "id": "D8_CvR2fIDLP",
        "outputId": "13d193f5-e10e-43d1-8784-ab54451955eb"
      },
      "execution_count": null,
      "outputs": [
        {
          "output_type": "stream",
          "name": "stdout",
          "text": [
            "32.0\n"
          ]
        }
      ]
    },
    {
      "cell_type": "code",
      "source": [
        "Lower_fence = Q1-1.5*(IQR)\n",
        "Higher_fence = Q1+1.5*(IQR)\n",
        "print(Lower_fence)\n",
        "print(Higher_fence)"
      ],
      "metadata": {
        "colab": {
          "base_uri": "https://localhost:8080/"
        },
        "id": "J6CO5pxyIMMy",
        "outputId": "65330799-ed98-4e63-d4cf-512316fd5b9f"
      },
      "execution_count": null,
      "outputs": [
        {
          "output_type": "stream",
          "name": "stdout",
          "text": [
            "7.0\n",
            "103.0\n"
          ]
        }
      ]
    },
    {
      "cell_type": "code",
      "source": [
        "outlier=[]\n",
        "for i in lst_marks:\n",
        "  if i >=7.0 and i<=103.0:\n",
        "    print(\"This Element is not an outlier\")\n",
        "  else:\n",
        "      outlier.append(i)"
      ],
      "metadata": {
        "colab": {
          "base_uri": "https://localhost:8080/"
        },
        "id": "3Y83GJgBIwj-",
        "outputId": "3a7de0ea-085a-4bbe-a8ac-1557cda247f6"
      },
      "execution_count": null,
      "outputs": [
        {
          "output_type": "stream",
          "name": "stdout",
          "text": [
            "This Element is not an outlier\n",
            "This Element is not an outlier\n",
            "This Element is not an outlier\n",
            "This Element is not an outlier\n",
            "This Element is not an outlier\n",
            "This Element is not an outlier\n",
            "This Element is not an outlier\n",
            "This Element is not an outlier\n",
            "This Element is not an outlier\n",
            "This Element is not an outlier\n",
            "This Element is not an outlier\n",
            "This Element is not an outlier\n",
            "This Element is not an outlier\n",
            "This Element is not an outlier\n",
            "This Element is not an outlier\n",
            "This Element is not an outlier\n",
            "This Element is not an outlier\n",
            "This Element is not an outlier\n",
            "This Element is not an outlier\n"
          ]
        }
      ]
    },
    {
      "cell_type": "code",
      "source": [
        "outlier"
      ],
      "metadata": {
        "colab": {
          "base_uri": "https://localhost:8080/"
        },
        "id": "AOzjBlerJvoi",
        "outputId": "c8069dd8-d4fe-4d7e-80e6-9074e9c5c390"
      },
      "execution_count": null,
      "outputs": [
        {
          "output_type": "execute_result",
          "data": {
            "text/plain": [
              "[1000, 1100]"
            ]
          },
          "metadata": {},
          "execution_count": 21
        }
      ]
    },
    {
      "cell_type": "code",
      "source": [
        "import seaborn as sns\n",
        "sns.boxplot(lst_marks)\n"
      ],
      "metadata": {
        "colab": {
          "base_uri": "https://localhost:8080/",
          "height": 463
        },
        "id": "p0nbu2laJ9l9",
        "outputId": "9f01ddfe-727e-4110-c410-b67835054650"
      },
      "execution_count": null,
      "outputs": [
        {
          "output_type": "stream",
          "name": "stderr",
          "text": [
            "/usr/local/lib/python3.10/dist-packages/seaborn/categorical.py:640: FutureWarning: SeriesGroupBy.grouper is deprecated and will be removed in a future version of pandas.\n",
            "  positions = grouped.grouper.result_index.to_numpy(dtype=float)\n"
          ]
        },
        {
          "output_type": "execute_result",
          "data": {
            "text/plain": [
              "<Axes: >"
            ]
          },
          "metadata": {},
          "execution_count": 22
        },
        {
          "output_type": "display_data",
          "data": {
            "text/plain": [
              "<Figure size 640x480 with 1 Axes>"
            ],
            "image/png": "[encoded data removed]"
          },
          "metadata": {}
        }
      ]
    },
    {
      "cell_type": "code",
      "source": [
        "lst_marks=[25,45,67,52,35,67,95,85,88,99,55,29,60,80,59,61,83,82,87]"
      ],
      "metadata": {
        "id": "WI7HxAjOKPp8"
      },
      "execution_count": null,
      "outputs": []
    },
    {
      "cell_type": "code",
      "source": [
        "sns.boxplot(lst_marks)"
      ],
      "metadata": {
        "colab": {
          "base_uri": "https://localhost:8080/",
          "height": 463
        },
        "id": "6uOAu2B3Kl-V",
        "outputId": "518e01b7-85a0-4ec3-ad01-f78be35b02b1"
      },
      "execution_count": null,
      "outputs": [
        {
          "output_type": "stream",
          "name": "stderr",
          "text": [
            "/usr/local/lib/python3.10/dist-packages/seaborn/categorical.py:640: FutureWarning: SeriesGroupBy.grouper is deprecated and will be removed in a future version of pandas.\n",
            "  positions = grouped.grouper.result_index.to_numpy(dtype=float)\n"
          ]
        },
        {
          "output_type": "execute_result",
          "data": {
            "text/plain": [
              "<Axes: >"
            ]
          },
          "metadata": {},
          "execution_count": 24
        },
        {
          "output_type": "display_data",
          "data": {
            "text/plain": [
              "<Figure size 640x480 with 1 Axes>"
            ],
            "image/png": "[encoded data removed]"
          },
          "metadata": {}
        }
      ]
    },
    {
      "cell_type": "code",
      "source": [],
      "metadata": {
        "id": "9gcjL8x6KsGj"
      },
      "execution_count": null,
      "outputs": []
    }
  ]
}