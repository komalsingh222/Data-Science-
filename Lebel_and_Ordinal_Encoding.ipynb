{
  "nbformat": 4,
  "nbformat_minor": 0,
  "metadata": {
    "colab": {
      "provenance": []
    },
    "kernelspec": {
      "name": "python3",
      "display_name": "Python 3"
    },
    "language_info": {
      "name": "python"
    }
  },
  "cells": [
    {
      "cell_type": "markdown",
      "source": [
        "#Lebel and Ordinal Encoding."
      ],
      "metadata": {
        "id": "WMVc-esitIjk"
      }
    },
    {
      "cell_type": "code",
      "execution_count": null,
      "metadata": {
        "id": "gqCB0jP8tHBw"
      },
      "outputs": [],
      "source": [
        "import pandas as pd"
      ]
    },
    {
      "cell_type": "code",
      "source": [
        "from sklearn.preprocessing import LabelEncoder"
      ],
      "metadata": {
        "id": "G5d-VuR6tYIe"
      },
      "execution_count": null,
      "outputs": []
    },
    {
      "cell_type": "code",
      "source": [
        "#Create a `sample datafrom woth a categorical variables.\n",
        "df=pd.DataFrame({\n",
        "    'color':['red','blue','green','green','red','blue']\n",
        "})"
      ],
      "metadata": {
        "id": "iE28FfSbt1E6"
      },
      "execution_count": null,
      "outputs": []
    },
    {
      "cell_type": "code",
      "source": [
        "#create a instance of lebel Encoder.\n",
        "encoder = LabelEncoder()"
      ],
      "metadata": {
        "id": "X17Zbh35uXlV"
      },
      "execution_count": null,
      "outputs": []
    },
    {
      "cell_type": "code",
      "source": [
        "encoder.fit_transform(df[['color']])"
      ],
      "metadata": {
        "colab": {
          "base_uri": "https://localhost:8080/"
        },
        "id": "TAA_5F5puvdN",
        "outputId": "9f4d34f0-0c4d-45ba-8bd3-02b854d07ace"
      },
      "execution_count": null,
      "outputs": [
        {
          "output_type": "stream",
          "name": "stderr",
          "text": [
            "/usr/local/lib/python3.10/dist-packages/sklearn/preprocessing/_label.py:114: DataConversionWarning: A column-vector y was passed when a 1d array was expected. Please change the shape of y to (n_samples, ), for example using ravel().\n",
            "  y = column_or_1d(y, warn=True)\n"
          ]
        },
        {
          "output_type": "execute_result",
          "data": {
            "text/plain": [
              "array([2, 0, 1, 1, 2, 0])"
            ]
          },
          "metadata": {},
          "execution_count": 7
        }
      ]
    },
    {
      "cell_type": "code",
      "source": [
        "encoder.fit_transform(df['color'])"
      ],
      "metadata": {
        "colab": {
          "base_uri": "https://localhost:8080/"
        },
        "id": "ezz5BeqCu572",
        "outputId": "e5c657ce-6bf9-4452-b650-3e7c558537c5"
      },
      "execution_count": null,
      "outputs": [
        {
          "output_type": "execute_result",
          "data": {
            "text/plain": [
              "array([2, 0, 1, 1, 2, 0])"
            ]
          },
          "metadata": {},
          "execution_count": 8
        }
      ]
    },
    {
      "cell_type": "code",
      "source": [
        "#Ordinal encoding\n",
        "import pandas as pd\n",
        "from sklearn.preprocessing import OrdinalEncoder\n",
        "\n",
        "#Create a `sample datafrom woth an ordinal variables.\n",
        "df1=pd.DataFrame({\n",
        "    'size':['small','medium','large','medium','small','large']\n",
        "})\n"
      ],
      "metadata": {
        "id": "z7xEj-1AvDjE"
      },
      "execution_count": null,
      "outputs": []
    },
    {
      "cell_type": "code",
      "source": [
        "#Create a instance of ordinalEncoder class and fit_transform.\n",
        "encoder= OrdinalEncoder(categories=[['small','medium','large']])"
      ],
      "metadata": {
        "id": "km6j4bm-wERi"
      },
      "execution_count": null,
      "outputs": []
    },
    {
      "cell_type": "code",
      "source": [
        "encoder.fit_transform(df1[['size']])"
      ],
      "metadata": {
        "colab": {
          "base_uri": "https://localhost:8080/"
        },
        "id": "M-k6Y877x9Ty",
        "outputId": "b4e4e16f-ba3e-4ecb-8df8-919af71fde35"
      },
      "execution_count": null,
      "outputs": [
        {
          "output_type": "execute_result",
          "data": {
            "text/plain": [
              "array([[0.],\n",
              "       [1.],\n",
              "       [2.],\n",
              "       [1.],\n",
              "       [0.],\n",
              "       [2.]])"
            ]
          },
          "metadata": {},
          "execution_count": 16
        }
      ]
    },
    {
      "cell_type": "code",
      "source": [],
      "metadata": {
        "id": "xZJOSgfnyHNe"
      },
      "execution_count": null,
      "outputs": []
    }
  ]
}